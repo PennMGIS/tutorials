{
 "cells": [
  {
   "cell_type": "code",
   "execution_count": null,
   "id": "b9c36923",
   "metadata": {},
   "outputs": [],
   "source": [
    "#Tutorial on census data access through Cenpy (pronounced sen-pi) "
   ]
  },
  {
   "cell_type": "code",
   "execution_count": null,
   "id": "cff87458",
   "metadata": {},
   "outputs": [],
   "source": [
    "# load libraries\n",
    "%matplotlib inline\n",
    "import pandas as pd\n",
    "import numpy as np\n",
    "import matplotlib.pyplot as plt\n",
    "from cenpy import products"
   ]
  },
  {
   "cell_type": "code",
   "execution_count": null,
   "id": "2db21ef2",
   "metadata": {},
   "outputs": [],
   "source": [
    "#\"Cenpy (pronounced sen-pie) is a package that automatically discovers US Census Bureau API endpoints and exposes them to Python in a consistent fashion.\"\n",
    "#https://cenpy-devs.github.io/cenpy/\n",
    "#Retrieves data from products ACS-5, and Decenial Census\n",
    "#let's get variables from the ACS table for all the tracts in Philadelphia county, PA. \n",
    "#For this demo, we'll use the API for American Community Survey (ACS), year 2019, at census tract geography level. \n",
    "#We can request for all the tracts in Philadelphia County the variables: \n",
    "#RACE: Total: Total population -- (Estimate) B02001_001E\n",
    "#RACE: Total: White alone: Total population -- (Estimate) B02001_002E\n",
    "#RACE: Total: Black or African American alone: Total population -- (Estimate) B02001_003E\n",
    "#Estimate!!Median age!!Total (B01002H_001E) \n",
    "#The link below provides an overview of the ACS Summary File and how it can be used to access data on America’s communities. \n",
    "#https://www.census.gov/programs-surveys/acs/technical-documentation/summary-file-documentation.html\n",
    "#API reference for Cenpy is available at https://cenpy-devs.github.io/cenpy/api.html\n"
   ]
  },
  {
   "cell_type": "code",
   "execution_count": null,
   "id": "14e33a7d",
   "metadata": {},
   "outputs": [],
   "source": [
    "#using the following method we will retrieve the census data variables from the year 2019, ACS-5 table as a pandas dataframe\n",
    "#cenpy API revolves around products (ACS 5year summary and Decenial census), which integrate the geographic and the data APIs together.\n",
    "\n",
    "acstest = products.ACS(2019)\n",
    "tbl = acstest.from_county('Philadelphia, PA', level='tract',variables=['B02001_001E','B02001_002E','B02001_003E', 'B01002H_001E'])\n",
    " "
   ]
  },
  {
   "cell_type": "code",
   "execution_count": null,
   "id": "03c65820",
   "metadata": {
    "scrolled": false
   },
   "outputs": [],
   "source": [
    "#display retrieved census data table\n",
    "\n",
    "tbl.head()"
   ]
  },
  {
   "cell_type": "code",
   "execution_count": null,
   "id": "4e8bedbe",
   "metadata": {},
   "outputs": [],
   "source": [
    "# set the range for the choropleth\n",
    "vmin, vmax = 1, 100\n",
    "\n",
    "# create figure and axes for Matplotlib\n",
    "fig,ax = plt.subplots(1,1,figsize=(20,20))\n",
    "\n",
    "# create map, for a retrieved variable \n",
    "variable = 'B02001_003E'\n",
    "tbl.plot(column=variable, edgecolor='white', cmap='plasma', ax=ax, linewidth=.2)\n",
    "\n",
    "fig,ax.set_facecolor('k')\n",
    "\n",
    "# Now we can customise and add annotations\n",
    "\n",
    "# remove the axis\n",
    "fig,ax.axis('off')\n",
    "\n",
    "# add a title\n",
    "fig,ax.set_title('Philadelphia Counties Map', \\\n",
    "              fontdict={'fontsize': '25',\n",
    "                        'fontweight' : '3'})\n",
    "# create an annotation for the  data source\n",
    "fig,ax.annotate('Source: US Census Beureau',\n",
    "           xy=(0.1, .08), xycoords='figure fraction',\n",
    "           horizontalalignment='left', verticalalignment='top',\n",
    "           fontsize=10, color='#999999')\n",
    "\n",
    "# Create colorbar as a legend\n",
    "sm = plt.cm.ScalarMappable(cmap='plasma', norm=plt.Normalize(vmin=vmin, vmax=vmax))\n",
    "sm._A = []\n",
    "cbar = fig.colorbar(sm)\n",
    "\n",
    "#set the map display extent\n",
    "#ax.set(xlim=(-150, -50), ylim=(25, 75))"
   ]
  },
  {
   "cell_type": "code",
   "execution_count": null,
   "id": "62d735fa",
   "metadata": {},
   "outputs": [],
   "source": [
    "# this will save the figure as a high-res jpg. you can also save as svg\n",
    "fig.savefig('testmap.jpg', dpi=300)\n",
    "\n",
    "#this will save the census data table in pdframe as csv file\n",
    "tbl.to_csv('philly.csv')"
   ]
  },
  {
   "cell_type": "code",
   "execution_count": null,
   "id": "b440429a",
   "metadata": {},
   "outputs": [],
   "source": []
  }
 ],
 "metadata": {
  "kernelspec": {
   "display_name": "Python 3 (ipykernel)",
   "language": "python",
   "name": "python3"
  },
  "language_info": {
   "codemirror_mode": {
    "name": "ipython",
    "version": 3
   },
   "file_extension": ".py",
   "mimetype": "text/x-python",
   "name": "python",
   "nbconvert_exporter": "python",
   "pygments_lexer": "ipython3",
   "version": "3.9.6"
  }
 },
 "nbformat": 4,
 "nbformat_minor": 5
}
