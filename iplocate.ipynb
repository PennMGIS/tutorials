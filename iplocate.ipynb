{
 "cells": [
  {
   "attachments": {},
   "cell_type": "markdown",
   "id": "17060412",
   "metadata": {},
   "source": [
    "# Tutorial: Building Interactive map using python and Jupyter notebook \n",
    "\n",
    "## IP Address locator tool based on the \"IP2Location™ LITE IP-COUNTRY Database\n",
    "\n",
    "### This tutorial includes:\n",
    "* IP2Location LITE data available from <a href=\"https://lite.ip2location.com\"> https://lite.ip2location.com</a>.\n",
    "* Leafmap , a Python package for geospatial analysis and interactive mapping in a Jupyter environment (https://leafmap.org/). Wu, Q. (2021). Leafmap: A Python package for interactive mapping and geospatial analysis with minimal coding in a Jupyter environment. Journal of Open Source Software, 6(63), 3414. https://doi.org/10.21105/joss.03414\n",
    "\n",
    "### How it works\n",
    "\n",
    "* First, convert the IP address to IP number format. \n",
    "* Next, parse the IP address and convert the IP address to an IP number in decimal format to speed up the database query.\n",
    "* Search IP2Location™ geolocation database (reverse lookup) using IP number to match a record that has the IP Number between the Beginning IP Number (IPFROM) and the Ending IP Number (IPTO)\n",
    "* Then display on interactive map using the latitude and longitude retrieved from the database.\n",
    "\n",
    "### IP4 address to IP number conversion\n",
    "\n",
    "IP address (IPV4) is divided into 4 sub-blocks. Each sub-block has a different weight number each powered by 256. IP number is being used in the database because it is more efficient to search between a range of numbers in a database.\n",
    "\n",
    "The Beginning IP number and Ending IP Number are calculated based on the following formula:\n",
    "\n",
    "IP Number = w*256^3 + x*256^2 + y*256 + z  =  w*16777216 + x*65536 + y*256 + z     (1)\n",
    "\n",
    "where: IP Address = w.x.y.z\n",
    "\n",
    "Suppose the IP address is \"202.186.13.4\", then its IP Number will be \"3401190660\", based on the formula (1).\n",
    "\n",
    "IP Address = 202.186.13.4\n",
    "\n",
    "So, w = 202, x = 186, y = 13 and z = 4\n",
    "\n",
    "IP Number =202*16777216 + 186*65536 + 13*256 + 4\n",
    "\t>>\t  =3388997632 +12189696 +3328 +4\n",
    "\t>>\t  =3401190660    "
   ]
  },
  {
   "cell_type": "markdown",
   "id": "e96f1e72",
   "metadata": {},
   "source": [
    "#### Import the necessary python packages"
   ]
  },
  {
   "cell_type": "code",
   "execution_count": null,
   "id": "74ac7132",
   "metadata": {},
   "outputs": [],
   "source": [
    "import os\n",
    "import leafmap.leafmap as leafmap\n",
    "import pandas as pd \n"
   ]
  },
  {
   "cell_type": "markdown",
   "id": "0c70be91",
   "metadata": {},
   "source": [
    "#### Load the IP-COUNTRY geolocation database of US into panda dataframe and investigate the data. The file is in CSV format."
   ]
  },
  {
   "cell_type": "code",
   "execution_count": null,
   "id": "2e74f44f",
   "metadata": {},
   "outputs": [],
   "source": [
    "in_csv_ip = '../data/US_IP.csv'\n",
    "\n",
    "dfip = leafmap.csv_to_pandas(in_csv_ip, dtype={\"IPFROM\": int, \"IPTO\": int, \"COUNTRYCODE\": \"string\", \"COUNTRY\": \"string\", \"REGION\": \"string\", \"CITY\": \"string\", \"LATITUDE\": float, \"LONGITUDE\": float, \"ZIPCODE\": \"string\"})\n",
    "dfip. head(5)"
   ]
  },
  {
   "cell_type": "markdown",
   "id": "6814035c",
   "metadata": {},
   "source": [
    "#### Check the columns and their datatypes"
   ]
  },
  {
   "cell_type": "code",
   "execution_count": null,
   "id": "5c5f4341",
   "metadata": {},
   "outputs": [],
   "source": [
    "dfip.dtypes"
   ]
  },
  {
   "cell_type": "markdown",
   "id": "afe4afeb",
   "metadata": {},
   "source": [
    "#### Prompt for the IP address to geolocate. "
   ]
  },
  {
   "cell_type": "code",
   "execution_count": null,
   "id": "24fb230a",
   "metadata": {},
   "outputs": [],
   "source": [
    "theip = input(\"Enter the ip address: \")\n",
    "ipparts = theip.split('.')\n",
    "ipparts\n"
   ]
  },
  {
   "cell_type": "markdown",
   "id": "b294cdb5",
   "metadata": {},
   "source": [
    "#### Convert IP-adress to the ipnumber through the simple formula specified above"
   ]
  },
  {
   "cell_type": "code",
   "execution_count": null,
   "id": "92585868",
   "metadata": {},
   "outputs": [],
   "source": [
    "ipnum = 16777216*int(ipparts[0]) + 65536*int(ipparts[1]) + 256*int(ipparts[2]) + int(ipparts[3])\n",
    "ipnum"
   ]
  },
  {
   "cell_type": "markdown",
   "id": "5e56fe13",
   "metadata": {},
   "source": [
    "#### query the IP-COUNTRY geolocation database that's been loaded into a panda dataframe."
   ]
  },
  {
   "cell_type": "code",
   "execution_count": null,
   "id": "437522e3",
   "metadata": {},
   "outputs": [],
   "source": [
    "result = dfip.query('IPFROM <= @ipnum & IPTO >= @ipnum') \n",
    "resultdf = pd.DataFrame(result)\n",
    "resultdf"
   ]
  },
  {
   "cell_type": "markdown",
   "id": "c93e3d6e",
   "metadata": {},
   "source": [
    "#### Save result to a csv file"
   ]
  },
  {
   "cell_type": "code",
   "execution_count": null,
   "id": "b9e03e02",
   "metadata": {
    "scrolled": true
   },
   "outputs": [],
   "source": [
    "resultdf.to_csv('../data/myippoint.csv')\n",
    "in_csv_pts = '../data/myippoint.csv'\n"
   ]
  },
  {
   "cell_type": "markdown",
   "id": "3563cfba",
   "metadata": {},
   "source": [
    "#### Display IP location on a map"
   ]
  },
  {
   "cell_type": "code",
   "execution_count": null,
   "id": "c14d0de0",
   "metadata": {},
   "outputs": [],
   "source": [
    "Map = leafmap.Map()\n",
    "Map = leafmap.Map(height=\"200px\", width=\"300px\")\n",
    "Map = leafmap.Map(draw_control=False, measure_control=False, fullscreen_control=False, attribution_control=True)\n",
    "Map.add_xy_data(in_csv_pts, x=\"LONGITUDE\", y=\"LATITUDE\", layer_name=\"ippoint\")\n",
    "Map"
   ]
  },
  {
   "cell_type": "markdown",
   "id": "2127f70f",
   "metadata": {},
   "source": [
    "#### Read a shapefile of US states and overlay on the map"
   ]
  },
  {
   "cell_type": "code",
   "execution_count": null,
   "id": "6f4f2ea2",
   "metadata": {},
   "outputs": [],
   "source": [
    "in_shp = '../data/us-states.shp'\n",
    "Map.add_shp(in_shp, layer_name=\"Zips\", fill_colors=['red', 'yellow', 'green', 'orange'])"
   ]
  },
  {
   "cell_type": "markdown",
   "id": "6c52b169",
   "metadata": {},
   "source": [
    "#### Change the base map to Google's sattelite \"Hybrid\""
   ]
  },
  {
   "cell_type": "code",
   "execution_count": null,
   "id": "1b173c05",
   "metadata": {},
   "outputs": [],
   "source": [
    "Map.add_basemap(\"HYBRID\")"
   ]
  },
  {
   "cell_type": "markdown",
   "id": "352ec6bc",
   "metadata": {},
   "source": [
    "#### Another map demo: Create a world population heat map from World Cities data."
   ]
  },
  {
   "cell_type": "code",
   "execution_count": null,
   "id": "2f1e8e0b",
   "metadata": {},
   "outputs": [],
   "source": [
    "Map2 = leafmap.Map()\n",
    "in_csv_wc = '../data/world_cities.csv'\n",
    "dfwc = leafmap.csv_to_pandas(in_csv_wc)\n",
    "dfwc.dtypes"
   ]
  },
  {
   "cell_type": "code",
   "execution_count": null,
   "id": "424cf6d4",
   "metadata": {},
   "outputs": [],
   "source": [
    "Map2.add_heatmap(in_csv_wc, latitude=\"latitude\", longitude='longitude', value=\"pop_max\", name=\"Heat map\", radius=20)\n",
    "colors = ['blue', 'lime', 'red']\n",
    "vmin = 0\n",
    "vmax = 10000\n",
    "Map2.add_colorbar(colors=colors, vmin=vmin, vmax=vmax)\n",
    "Map2"
   ]
  },
  {
   "cell_type": "code",
   "execution_count": null,
   "id": "fdd007f5",
   "metadata": {},
   "outputs": [],
   "source": []
  }
 ],
 "metadata": {
  "kernelspec": {
   "display_name": "Python 3 (ipykernel)",
   "language": "python",
   "name": "python3"
  },
  "language_info": {
   "codemirror_mode": {
    "name": "ipython",
    "version": 3
   },
   "file_extension": ".py",
   "mimetype": "text/x-python",
   "name": "python",
   "nbconvert_exporter": "python",
   "pygments_lexer": "ipython3",
   "version": "3.9.7"
  }
 },
 "nbformat": 4,
 "nbformat_minor": 5
}
